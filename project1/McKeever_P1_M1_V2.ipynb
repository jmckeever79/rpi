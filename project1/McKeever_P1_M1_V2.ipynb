{
 "cells": [
  {
   "cell_type": "code",
   "execution_count": 1,
   "metadata": {},
   "outputs": [],
   "source": [
    "import pandas as pd\n",
    "import matplotlib.pyplot as plt"
   ]
  },
  {
   "cell_type": "code",
   "execution_count": 2,
   "metadata": {},
   "outputs": [],
   "source": [
    "pd.set_option('display.float_format', lambda x: '%.3f' % x)"
   ]
  },
  {
   "cell_type": "markdown",
   "metadata": {},
   "source": [
    "# Objective\n",
    "\n",
    "Our goal is to develop a model for predicting the likelihood of future payment defaults from a roster of current and prospective clients. Initially we would like to develop an understanding of the relationship between what we know about our clients (i.e. income statement, balance sheet, credit history, etc.) and their corresponding frequency of missed payment and serious delinquency."
   ]
  },
  {
   "cell_type": "code",
   "execution_count": 3,
   "metadata": {},
   "outputs": [],
   "source": [
    "df = pd.read_excel('Dataset Project 1.xlsx', header=1)"
   ]
  },
  {
   "cell_type": "code",
   "execution_count": 4,
   "metadata": {},
   "outputs": [
    {
     "data": {
      "text/html": [
       "<div>\n",
       "<style scoped>\n",
       "    .dataframe tbody tr th:only-of-type {\n",
       "        vertical-align: middle;\n",
       "    }\n",
       "\n",
       "    .dataframe tbody tr th {\n",
       "        vertical-align: top;\n",
       "    }\n",
       "\n",
       "    .dataframe thead th {\n",
       "        text-align: right;\n",
       "    }\n",
       "</style>\n",
       "<table border=\"1\" class=\"dataframe\">\n",
       "  <thead>\n",
       "    <tr style=\"text-align: right;\">\n",
       "      <th></th>\n",
       "      <th>Age</th>\n",
       "      <th>Monthly Revenue</th>\n",
       "      <th>Debt Ratio</th>\n",
       "      <th>Rated Exposure</th>\n",
       "      <th># Overdue 30-59 Days</th>\n",
       "      <th># Overdue 60-89 Days</th>\n",
       "      <th># Overdue 90+ Days</th>\n",
       "      <th>Serious Delinquencies in past 2 years</th>\n",
       "    </tr>\n",
       "  </thead>\n",
       "  <tbody>\n",
       "    <tr>\n",
       "      <th>count</th>\n",
       "      <td>45063.000</td>\n",
       "      <td>36420.000</td>\n",
       "      <td>45063.000</td>\n",
       "      <td>43946.000</td>\n",
       "      <td>45063.000</td>\n",
       "      <td>45063.000</td>\n",
       "      <td>45063.000</td>\n",
       "      <td>45063.000</td>\n",
       "    </tr>\n",
       "    <tr>\n",
       "      <th>mean</th>\n",
       "      <td>51.211</td>\n",
       "      <td>6452.263</td>\n",
       "      <td>352.063</td>\n",
       "      <td>0.790</td>\n",
       "      <td>0.751</td>\n",
       "      <td>0.506</td>\n",
       "      <td>0.571</td>\n",
       "      <td>0.222</td>\n",
       "    </tr>\n",
       "    <tr>\n",
       "      <th>std</th>\n",
       "      <td>14.652</td>\n",
       "      <td>12638.168</td>\n",
       "      <td>2467.556</td>\n",
       "      <td>1.131</td>\n",
       "      <td>6.185</td>\n",
       "      <td>6.154</td>\n",
       "      <td>6.173</td>\n",
       "      <td>0.416</td>\n",
       "    </tr>\n",
       "    <tr>\n",
       "      <th>min</th>\n",
       "      <td>21.000</td>\n",
       "      <td>0.000</td>\n",
       "      <td>0.000</td>\n",
       "      <td>0.000</td>\n",
       "      <td>0.000</td>\n",
       "      <td>0.000</td>\n",
       "      <td>0.000</td>\n",
       "      <td>0.000</td>\n",
       "    </tr>\n",
       "    <tr>\n",
       "      <th>25%</th>\n",
       "      <td>40.000</td>\n",
       "      <td>3286.000</td>\n",
       "      <td>0.176</td>\n",
       "      <td>0.000</td>\n",
       "      <td>0.000</td>\n",
       "      <td>0.000</td>\n",
       "      <td>0.000</td>\n",
       "      <td>0.000</td>\n",
       "    </tr>\n",
       "    <tr>\n",
       "      <th>50%</th>\n",
       "      <td>51.000</td>\n",
       "      <td>5166.000</td>\n",
       "      <td>0.374</td>\n",
       "      <td>0.000</td>\n",
       "      <td>0.000</td>\n",
       "      <td>0.000</td>\n",
       "      <td>0.000</td>\n",
       "      <td>0.000</td>\n",
       "    </tr>\n",
       "    <tr>\n",
       "      <th>75%</th>\n",
       "      <td>62.000</td>\n",
       "      <td>8000.000</td>\n",
       "      <td>0.857</td>\n",
       "      <td>1.000</td>\n",
       "      <td>0.000</td>\n",
       "      <td>0.000</td>\n",
       "      <td>0.000</td>\n",
       "      <td>0.000</td>\n",
       "    </tr>\n",
       "    <tr>\n",
       "      <th>max</th>\n",
       "      <td>107.000</td>\n",
       "      <td>1794060.000</td>\n",
       "      <td>326442.000</td>\n",
       "      <td>10.000</td>\n",
       "      <td>98.000</td>\n",
       "      <td>98.000</td>\n",
       "      <td>98.000</td>\n",
       "      <td>1.000</td>\n",
       "    </tr>\n",
       "  </tbody>\n",
       "</table>\n",
       "</div>"
      ],
      "text/plain": [
       "            Age  Monthly Revenue  Debt Ratio  Rated Exposure  \\\n",
       "count 45063.000        36420.000   45063.000       43946.000   \n",
       "mean     51.211         6452.263     352.063           0.790   \n",
       "std      14.652        12638.168    2467.556           1.131   \n",
       "min      21.000            0.000       0.000           0.000   \n",
       "25%      40.000         3286.000       0.176           0.000   \n",
       "50%      51.000         5166.000       0.374           0.000   \n",
       "75%      62.000         8000.000       0.857           1.000   \n",
       "max     107.000      1794060.000  326442.000          10.000   \n",
       "\n",
       "       # Overdue 30-59 Days  # Overdue 60-89 Days  # Overdue 90+ Days  \\\n",
       "count             45063.000             45063.000           45063.000   \n",
       "mean                  0.751                 0.506               0.571   \n",
       "std                   6.185                 6.154               6.173   \n",
       "min                   0.000                 0.000               0.000   \n",
       "25%                   0.000                 0.000               0.000   \n",
       "50%                   0.000                 0.000               0.000   \n",
       "75%                   0.000                 0.000               0.000   \n",
       "max                  98.000                98.000              98.000   \n",
       "\n",
       "       Serious Delinquencies in past 2 years  \n",
       "count                              45063.000  \n",
       "mean                                   0.222  \n",
       "std                                    0.416  \n",
       "min                                    0.000  \n",
       "25%                                    0.000  \n",
       "50%                                    0.000  \n",
       "75%                                    0.000  \n",
       "max                                    1.000  "
      ]
     },
     "execution_count": 4,
     "metadata": {},
     "output_type": "execute_result"
    }
   ],
   "source": [
    "df.describe(percentiles=[0.25, 0.5, 0.75])"
   ]
  },
  {
   "cell_type": "markdown",
   "metadata": {},
   "source": [
    "# Some general observations about the data\n",
    "\n",
    "<p>The dataset represents 45,063 clients, ranging in age from 21 to 107 (months, presumably).</p>"
   ]
  },
  {
   "cell_type": "markdown",
   "metadata": {},
   "source": [
    "## Age\n",
    "\n",
    "The age metric is perhaps the feature of our dataset with the most normal distribution, with a positive skew of just 0.245."
   ]
  },
  {
   "cell_type": "code",
   "execution_count": 5,
   "metadata": {},
   "outputs": [
    {
     "data": {
      "text/plain": [
       "<matplotlib.axes._subplots.AxesSubplot at 0x2e3f6461978>"
      ]
     },
     "execution_count": 5,
     "metadata": {},
     "output_type": "execute_result"
    },
    {
     "data": {
      "image/png": "[encoded data removed]",
      "text/plain": [
       "<Figure size 432x288 with 1 Axes>"
      ]
     },
     "metadata": {
      "needs_background": "light"
     },
     "output_type": "display_data"
    }
   ],
   "source": [
    "df['Age'].hist(bins=10)"
   ]
  },
  {
   "cell_type": "markdown",
   "metadata": {},
   "source": [
    "## Monthly Revenue\n",
    "\n",
    "For 8,643 clients, no revenue figure is given. Of the 36,420 for which revenue is reported, the distribution shows a **positive skew** (nonparametric skew of 0.102), with 85.9% having less than \\$10,000 and 98.4% having less than \\$20,000. Only 18 have revenue in excess of \\$100,000, and 477 report zero revenue. See below for a histographic distribution of the revenues under \\$20,000."
   ]
  },
  {
   "cell_type": "code",
   "execution_count": 6,
   "metadata": {},
   "outputs": [
    {
     "data": {
      "text/plain": [
       "<matplotlib.axes._subplots.AxesSubplot at 0x2e3f5cd9048>"
      ]
     },
     "execution_count": 6,
     "metadata": {},
     "output_type": "execute_result"
    },
    {
     "data": {
      "image/png": "[encoded data removed]",
      "text/plain": [
       "<Figure size 432x288 with 1 Axes>"
      ]
     },
     "metadata": {
      "needs_background": "light"
     },
     "output_type": "display_data"
    }
   ],
   "source": [
    "rev_col = df.columns[1]\n",
    "temp = df[df[rev_col]<=20000]\n",
    "temp[rev_col].hist(bins=10)"
   ]
  },
  {
   "cell_type": "markdown",
   "metadata": {},
   "source": [
    "## Debt Ratio\n",
    "\n",
    "As with the monthly revenues, the debt ratio statistic reflects a definite positive skew with 33,332 companies reporting a debts to assets ratio betwen 0 and 1. 1,286 report no debt at all, and 59 outliers have ratios in excess of 10,000."
   ]
  },
  {
   "cell_type": "code",
   "execution_count": 7,
   "metadata": {},
   "outputs": [],
   "source": [
    "debt_ratio_col = df.columns[2]"
   ]
  },
  {
   "cell_type": "code",
   "execution_count": 9,
   "metadata": {},
   "outputs": [
    {
     "data": {
      "text/plain": [
       "<matplotlib.axes._subplots.AxesSubplot at 0x2e3f54b3550>"
      ]
     },
     "execution_count": 9,
     "metadata": {},
     "output_type": "execute_result"
    },
    {
     "data": {
      "image/png": "[encoded data removed]",
      "text/plain": [
       "<Figure size 432x288 with 1 Axes>"
      ]
     },
     "metadata": {
      "needs_background": "light"
     },
     "output_type": "display_data"
    }
   ],
   "source": [
    "#distribution of companies with debt ratio between 0 and 1 inclusive\n",
    "\n",
    "temp = df[df[debt_ratio_col]<=1]\n",
    "temp[debt_ratio_col].hist(bins=10)"
   ]
  },
  {
   "cell_type": "code",
   "execution_count": 10,
   "metadata": {},
   "outputs": [
    {
     "data": {
      "text/plain": [
       "<matplotlib.axes._subplots.AxesSubplot at 0x2e3f485d978>"
      ]
     },
     "execution_count": 10,
     "metadata": {},
     "output_type": "execute_result"
    },
    {
     "data": {
      "image/png": "[encoded data removed]",
      "text/plain": [
       "<Figure size 432x288 with 1 Axes>"
      ]
     },
     "metadata": {
      "needs_background": "light"
     },
     "output_type": "display_data"
    }
   ],
   "source": [
    "# distribution of companies with debt ratio between 1 and 10,000\n",
    "\n",
    "temp = df[(df[debt_ratio_col]>1) & (df[debt_ratio_col]<10000)]\n",
    "temp[debt_ratio_col].hist(bins=10)"
   ]
  },
  {
   "cell_type": "markdown",
   "metadata": {},
   "source": [
    "## Rated Exposure\n",
    "\n",
    "1,117 clients have no credit rating in the dataset, and it should be noted that the monthly revenue is also missing in each of those cases. Of the 43,946 that do show a credit rating, 58% have a rating of 0. As the rating increases, the number of companies assigned the given rating decrease monotonically.\n",
    "\n",
    "As the rating increases, the average revenue of the client tends to increase and the average debt ratio tends to decrease, at least for the ratings held by a significant number of clients (<= 6): the Pearson correlation coefficients when comparing average revenues and debt ratios for such clients are 0.954 and -0.694 respectively."
   ]
  },
  {
   "cell_type": "code",
   "execution_count": 11,
   "metadata": {},
   "outputs": [
    {
     "data": {
      "text/plain": [
       "(43946, 8)"
      ]
     },
     "execution_count": 11,
     "metadata": {},
     "output_type": "execute_result"
    }
   ],
   "source": [
    "df[df['Rated Exposure']>=0].shape"
   ]
  },
  {
   "cell_type": "code",
   "execution_count": 12,
   "metadata": {},
   "outputs": [
    {
     "data": {
      "text/plain": [
       "0.000     25509\n",
       "1.000      8106\n",
       "2.000      6071\n",
       "3.000      3004\n",
       "4.000       951\n",
       "5.000       226\n",
       "6.000        57\n",
       "7.000        14\n",
       "8.000         6\n",
       "10.000        1\n",
       "9.000         1\n",
       "Name: Rated Exposure, dtype: int64"
      ]
     },
     "execution_count": 12,
     "metadata": {},
     "output_type": "execute_result"
    }
   ],
   "source": [
    "df['Rated Exposure'].value_counts()"
   ]
  },
  {
   "cell_type": "code",
   "execution_count": 13,
   "metadata": {},
   "outputs": [
    {
     "data": {
      "text/html": [
       "<div>\n",
       "<style scoped>\n",
       "    .dataframe tbody tr th:only-of-type {\n",
       "        vertical-align: middle;\n",
       "    }\n",
       "\n",
       "    .dataframe tbody tr th {\n",
       "        vertical-align: top;\n",
       "    }\n",
       "\n",
       "    .dataframe thead th {\n",
       "        text-align: right;\n",
       "    }\n",
       "</style>\n",
       "<table border=\"1\" class=\"dataframe\">\n",
       "  <thead>\n",
       "    <tr style=\"text-align: right;\">\n",
       "      <th></th>\n",
       "      <th>Rated Exposure</th>\n",
       "      <th>Monthly Revenue</th>\n",
       "      <th>Debt Ratio</th>\n",
       "    </tr>\n",
       "  </thead>\n",
       "  <tbody>\n",
       "    <tr>\n",
       "      <th>Rated Exposure</th>\n",
       "      <td>1.000</td>\n",
       "      <td>0.954</td>\n",
       "      <td>-0.694</td>\n",
       "    </tr>\n",
       "    <tr>\n",
       "      <th>Monthly Revenue</th>\n",
       "      <td>0.954</td>\n",
       "      <td>1.000</td>\n",
       "      <td>-0.828</td>\n",
       "    </tr>\n",
       "    <tr>\n",
       "      <th>Debt Ratio</th>\n",
       "      <td>-0.694</td>\n",
       "      <td>-0.828</td>\n",
       "      <td>1.000</td>\n",
       "    </tr>\n",
       "  </tbody>\n",
       "</table>\n",
       "</div>"
      ],
      "text/plain": [
       "                 Rated Exposure  Monthly Revenue  Debt Ratio\n",
       "Rated Exposure            1.000            0.954      -0.694\n",
       "Monthly Revenue           0.954            1.000      -0.828\n",
       "Debt Ratio               -0.694           -0.828       1.000"
      ]
     },
     "execution_count": 13,
     "metadata": {},
     "output_type": "execute_result"
    }
   ],
   "source": [
    "grouped = df.groupby('Rated Exposure').mean()[['Monthly Revenue', 'Debt Ratio']]\n",
    "grouped = grouped.reset_index()\n",
    "grouped[grouped['Rated Exposure']<=6].corr()"
   ]
  },
  {
   "cell_type": "code",
   "execution_count": 14,
   "metadata": {},
   "outputs": [
    {
     "data": {
      "text/plain": [
       "<matplotlib.axes._subplots.AxesSubplot at 0x2e3f4a636d8>"
      ]
     },
     "execution_count": 14,
     "metadata": {},
     "output_type": "execute_result"
    },
    {
     "data": {
      "image/png": "[encoded data removed]",
      "text/plain": [
       "<Figure size 432x288 with 1 Axes>"
      ]
     },
     "metadata": {
      "needs_background": "light"
     },
     "output_type": "display_data"
    }
   ],
   "source": [
    "df['Rated Exposure'].hist(bins=10)"
   ]
  },
  {
   "cell_type": "markdown",
   "metadata": {},
   "source": [
    "## Overdue Payments\n",
    "\n",
    "32,414 clients have no overdue payments whatsoever. 9,722 have at least one payment overdue 30-59 days, 3,967 at least one overdue 60-89 days, and 4,704 at least one overdue 90+ days. 173 clients have exactly 98 payments overdue in each category, an anomaly that might indicate an error in the collection/representation.\n",
    "\n",
    "Naively, there appears to be strong correlations between the numbers of payments in these various buckets, but those relationships largely disappear when the anomolous clients (# of outstanding payments >= 96) are removed from the analysis."
   ]
  },
  {
   "cell_type": "code",
   "execution_count": 15,
   "metadata": {},
   "outputs": [
    {
     "data": {
      "text/plain": [
       "(32414, 8)"
      ]
     },
     "execution_count": 15,
     "metadata": {},
     "output_type": "execute_result"
    }
   ],
   "source": [
    "od1 = df.columns[4]\n",
    "od2 = df.columns[5]\n",
    "od3 = df.columns[6]\n",
    "temp = df[(df[od1]==0) & (df[od2]==0) & (df[od3]==0)]\n",
    "temp.shape"
   ]
  },
  {
   "cell_type": "code",
   "execution_count": 16,
   "metadata": {},
   "outputs": [
    {
     "data": {
      "text/plain": [
       "(9722, 8)"
      ]
     },
     "execution_count": 16,
     "metadata": {},
     "output_type": "execute_result"
    }
   ],
   "source": [
    "temp = df[df[od1]>=1]\n",
    "temp.shape"
   ]
  },
  {
   "cell_type": "code",
   "execution_count": 17,
   "metadata": {},
   "outputs": [
    {
     "data": {
      "text/plain": [
       "(3967, 8)"
      ]
     },
     "execution_count": 17,
     "metadata": {},
     "output_type": "execute_result"
    }
   ],
   "source": [
    "temp = df[df[od2]>=1]\n",
    "temp.shape"
   ]
  },
  {
   "cell_type": "code",
   "execution_count": 18,
   "metadata": {},
   "outputs": [
    {
     "data": {
      "text/plain": [
       "(4704, 8)"
      ]
     },
     "execution_count": 18,
     "metadata": {},
     "output_type": "execute_result"
    }
   ],
   "source": [
    "temp = df[df[od3]>=1]\n",
    "temp.shape"
   ]
  },
  {
   "cell_type": "code",
   "execution_count": 19,
   "metadata": {},
   "outputs": [
    {
     "data": {
      "text/plain": [
       "(173, 8)"
      ]
     },
     "execution_count": 19,
     "metadata": {},
     "output_type": "execute_result"
    }
   ],
   "source": [
    "temp = df[(df[od1]==98) & (df[od2]==98) & (df[od3]==98)]\n",
    "temp.shape"
   ]
  },
  {
   "cell_type": "code",
   "execution_count": 20,
   "metadata": {},
   "outputs": [
    {
     "data": {
      "text/plain": [
       "0     35341\n",
       "1      5776\n",
       "2      2084\n",
       "3       897\n",
       "4       432\n",
       "5       198\n",
       "98      173\n",
       "6        98\n",
       "7        33\n",
       "8        13\n",
       "9         6\n",
       "96        5\n",
       "10        3\n",
       "12        2\n",
       "13        1\n",
       "11        1\n",
       "Name: # Overdue 30-59 Days, dtype: int64"
      ]
     },
     "execution_count": 20,
     "metadata": {},
     "output_type": "execute_result"
    }
   ],
   "source": [
    "df[od1].value_counts()"
   ]
  },
  {
   "cell_type": "code",
   "execution_count": 21,
   "metadata": {},
   "outputs": [
    {
     "data": {
      "text/plain": [
       "0     41096\n",
       "1      2761\n",
       "2       694\n",
       "3       210\n",
       "98      173\n",
       "4        74\n",
       "5        27\n",
       "6        14\n",
       "7         7\n",
       "96        5\n",
       "11        1\n",
       "8         1\n",
       "Name: # Overdue 60-89 Days, dtype: int64"
      ]
     },
     "execution_count": 21,
     "metadata": {},
     "output_type": "execute_result"
    }
   ],
   "source": [
    "df[od2].value_counts()"
   ]
  },
  {
   "cell_type": "code",
   "execution_count": 22,
   "metadata": {},
   "outputs": [
    {
     "data": {
      "text/plain": [
       "0     40359\n",
       "1      2655\n",
       "2       980\n",
       "3       448\n",
       "4       214\n",
       "98      173\n",
       "5        96\n",
       "6        56\n",
       "7        33\n",
       "8        15\n",
       "9        15\n",
       "10        5\n",
       "96        5\n",
       "11        3\n",
       "13        2\n",
       "15        1\n",
       "12        1\n",
       "14        1\n",
       "17        1\n",
       "Name: # Overdue 90+ Days, dtype: int64"
      ]
     },
     "execution_count": 22,
     "metadata": {},
     "output_type": "execute_result"
    }
   ],
   "source": [
    "df[od3].value_counts()"
   ]
  },
  {
   "cell_type": "code",
   "execution_count": 23,
   "metadata": {},
   "outputs": [
    {
     "data": {
      "text/html": [
       "<div>\n",
       "<style scoped>\n",
       "    .dataframe tbody tr th:only-of-type {\n",
       "        vertical-align: middle;\n",
       "    }\n",
       "\n",
       "    .dataframe tbody tr th {\n",
       "        vertical-align: top;\n",
       "    }\n",
       "\n",
       "    .dataframe thead th {\n",
       "        text-align: right;\n",
       "    }\n",
       "</style>\n",
       "<table border=\"1\" class=\"dataframe\">\n",
       "  <thead>\n",
       "    <tr style=\"text-align: right;\">\n",
       "      <th></th>\n",
       "      <th># Overdue 30-59 Days</th>\n",
       "      <th># Overdue 60-89 Days</th>\n",
       "      <th># Overdue 90+ Days</th>\n",
       "    </tr>\n",
       "  </thead>\n",
       "  <tbody>\n",
       "    <tr>\n",
       "      <th># Overdue 30-59 Days</th>\n",
       "      <td>1.000</td>\n",
       "      <td>0.332</td>\n",
       "      <td>0.243</td>\n",
       "    </tr>\n",
       "    <tr>\n",
       "      <th># Overdue 60-89 Days</th>\n",
       "      <td>0.332</td>\n",
       "      <td>1.000</td>\n",
       "      <td>0.329</td>\n",
       "    </tr>\n",
       "    <tr>\n",
       "      <th># Overdue 90+ Days</th>\n",
       "      <td>0.243</td>\n",
       "      <td>0.329</td>\n",
       "      <td>1.000</td>\n",
       "    </tr>\n",
       "  </tbody>\n",
       "</table>\n",
       "</div>"
      ],
      "text/plain": [
       "                      # Overdue 30-59 Days  # Overdue 60-89 Days  \\\n",
       "# Overdue 30-59 Days                 1.000                 0.332   \n",
       "# Overdue 60-89 Days                 0.332                 1.000   \n",
       "# Overdue 90+ Days                   0.243                 0.329   \n",
       "\n",
       "                      # Overdue 90+ Days  \n",
       "# Overdue 30-59 Days               0.243  \n",
       "# Overdue 60-89 Days               0.329  \n",
       "# Overdue 90+ Days                 1.000  "
      ]
     },
     "execution_count": 23,
     "metadata": {},
     "output_type": "execute_result"
    }
   ],
   "source": [
    "temp = df[df[od1]<96]\n",
    "temp[[od1, od2, od3]].corr()"
   ]
  },
  {
   "cell_type": "code",
   "execution_count": 24,
   "metadata": {},
   "outputs": [
    {
     "data": {
      "text/plain": [
       "<matplotlib.axes._subplots.AxesSubplot at 0x2e3f5eb56a0>"
      ]
     },
     "execution_count": 24,
     "metadata": {},
     "output_type": "execute_result"
    },
    {
     "data": {
      "image/png": "[encoded data removed]",
      "text/plain": [
       "<Figure size 432x288 with 1 Axes>"
      ]
     },
     "metadata": {
      "needs_background": "light"
     },
     "output_type": "display_data"
    }
   ],
   "source": [
    "temp.plot.scatter(x=od1, y=od2)"
   ]
  },
  {
   "cell_type": "code",
   "execution_count": 25,
   "metadata": {},
   "outputs": [
    {
     "data": {
      "text/plain": [
       "<matplotlib.axes._subplots.AxesSubplot at 0x2e3f5ea0d68>"
      ]
     },
     "execution_count": 25,
     "metadata": {},
     "output_type": "execute_result"
    },
    {
     "data": {
      "image/png": "[encoded data removed]",
      "text/plain": [
       "<Figure size 432x288 with 1 Axes>"
      ]
     },
     "metadata": {
      "needs_background": "light"
     },
     "output_type": "display_data"
    }
   ],
   "source": [
    "temp.plot.scatter(x=od1, y=od3)"
   ]
  },
  {
   "cell_type": "code",
   "execution_count": 26,
   "metadata": {},
   "outputs": [
    {
     "data": {
      "text/plain": [
       "<matplotlib.axes._subplots.AxesSubplot at 0x2e3f4931128>"
      ]
     },
     "execution_count": 26,
     "metadata": {},
     "output_type": "execute_result"
    },
    {
     "data": {
      "image/png": "[encoded data removed]",
      "text/plain": [
       "<Figure size 432x288 with 1 Axes>"
      ]
     },
     "metadata": {
      "needs_background": "light"
     },
     "output_type": "display_data"
    }
   ],
   "source": [
    "temp.plot.scatter(x=od2, y=od3)"
   ]
  },
  {
   "cell_type": "markdown",
   "metadata": {},
   "source": [
    "## Serious Delinquencies\n",
    "\n",
    "10,026 clients have had a serious delinquency in the past 2 years. No client has had more than 1 such delinquency. It is somewhat noteworthy that the clients with a delinquency on their record have lower average debt ratios and higher average credit ratings than those with no delinquencies, though the median average debt ratio is higher in the former case."
   ]
  },
  {
   "cell_type": "code",
   "execution_count": 27,
   "metadata": {},
   "outputs": [
    {
     "data": {
      "text/plain": [
       "0    35037\n",
       "1    10026\n",
       "Name: Serious Delinquencies in past 2 years, dtype: int64"
      ]
     },
     "execution_count": 27,
     "metadata": {},
     "output_type": "execute_result"
    }
   ],
   "source": [
    "sd = df.columns[7]\n",
    "df[sd].value_counts()"
   ]
  },
  {
   "cell_type": "code",
   "execution_count": 28,
   "metadata": {},
   "outputs": [
    {
     "data": {
      "text/html": [
       "<div>\n",
       "<style scoped>\n",
       "    .dataframe tbody tr th:only-of-type {\n",
       "        vertical-align: middle;\n",
       "    }\n",
       "\n",
       "    .dataframe tbody tr th {\n",
       "        vertical-align: top;\n",
       "    }\n",
       "\n",
       "    .dataframe thead th {\n",
       "        text-align: right;\n",
       "    }\n",
       "</style>\n",
       "<table border=\"1\" class=\"dataframe\">\n",
       "  <thead>\n",
       "    <tr style=\"text-align: right;\">\n",
       "      <th></th>\n",
       "      <th>Age</th>\n",
       "      <th>Monthly Revenue</th>\n",
       "      <th>Debt Ratio</th>\n",
       "      <th>Rated Exposure</th>\n",
       "      <th># Overdue 30-59 Days</th>\n",
       "      <th># Overdue 60-89 Days</th>\n",
       "      <th># Overdue 90+ Days</th>\n",
       "    </tr>\n",
       "    <tr>\n",
       "      <th>Serious Delinquencies in past 2 years</th>\n",
       "      <th></th>\n",
       "      <th></th>\n",
       "      <th></th>\n",
       "      <th></th>\n",
       "      <th></th>\n",
       "      <th></th>\n",
       "      <th></th>\n",
       "    </tr>\n",
       "  </thead>\n",
       "  <tbody>\n",
       "    <tr>\n",
       "      <th>0</th>\n",
       "      <td>52.723</td>\n",
       "      <td>6696.883</td>\n",
       "      <td>368.357</td>\n",
       "      <td>0.744</td>\n",
       "      <td>0.282</td>\n",
       "      <td>0.128</td>\n",
       "      <td>0.136</td>\n",
       "    </tr>\n",
       "    <tr>\n",
       "      <th>1</th>\n",
       "      <td>45.927</td>\n",
       "      <td>5630.826</td>\n",
       "      <td>295.121</td>\n",
       "      <td>0.948</td>\n",
       "      <td>2.388</td>\n",
       "      <td>1.828</td>\n",
       "      <td>2.091</td>\n",
       "    </tr>\n",
       "  </tbody>\n",
       "</table>\n",
       "</div>"
      ],
      "text/plain": [
       "                                         Age  Monthly Revenue  Debt Ratio  \\\n",
       "Serious Delinquencies in past 2 years                                       \n",
       "0                                     52.723         6696.883     368.357   \n",
       "1                                     45.927         5630.826     295.121   \n",
       "\n",
       "                                       Rated Exposure  # Overdue 30-59 Days  \\\n",
       "Serious Delinquencies in past 2 years                                         \n",
       "0                                               0.744                 0.282   \n",
       "1                                               0.948                 2.388   \n",
       "\n",
       "                                       # Overdue 60-89 Days  \\\n",
       "Serious Delinquencies in past 2 years                         \n",
       "0                                                     0.128   \n",
       "1                                                     1.828   \n",
       "\n",
       "                                       # Overdue 90+ Days  \n",
       "Serious Delinquencies in past 2 years                      \n",
       "0                                                   0.136  \n",
       "1                                                   2.091  "
      ]
     },
     "execution_count": 28,
     "metadata": {},
     "output_type": "execute_result"
    }
   ],
   "source": [
    "df.groupby(sd).mean()"
   ]
  },
  {
   "cell_type": "code",
   "execution_count": 29,
   "metadata": {},
   "outputs": [],
   "source": [
    "one_delinq = df[df[sd]==1]\n",
    "zero_delinq = df[df[sd]==0]"
   ]
  },
  {
   "cell_type": "code",
   "execution_count": 30,
   "metadata": {},
   "outputs": [
    {
     "data": {
      "text/html": [
       "<div>\n",
       "<style scoped>\n",
       "    .dataframe tbody tr th:only-of-type {\n",
       "        vertical-align: middle;\n",
       "    }\n",
       "\n",
       "    .dataframe tbody tr th {\n",
       "        vertical-align: top;\n",
       "    }\n",
       "\n",
       "    .dataframe thead th {\n",
       "        text-align: right;\n",
       "    }\n",
       "</style>\n",
       "<table border=\"1\" class=\"dataframe\">\n",
       "  <thead>\n",
       "    <tr style=\"text-align: right;\">\n",
       "      <th></th>\n",
       "      <th>Age</th>\n",
       "      <th>Monthly Revenue</th>\n",
       "      <th>Debt Ratio</th>\n",
       "      <th>Rated Exposure</th>\n",
       "      <th># Overdue 30-59 Days</th>\n",
       "      <th># Overdue 60-89 Days</th>\n",
       "      <th># Overdue 90+ Days</th>\n",
       "      <th>Serious Delinquencies in past 2 years</th>\n",
       "    </tr>\n",
       "  </thead>\n",
       "  <tbody>\n",
       "    <tr>\n",
       "      <th>count</th>\n",
       "      <td>10026.000</td>\n",
       "      <td>8357.000</td>\n",
       "      <td>10026.000</td>\n",
       "      <td>9847.000</td>\n",
       "      <td>10026.000</td>\n",
       "      <td>10026.000</td>\n",
       "      <td>10026.000</td>\n",
       "      <td>10026.000</td>\n",
       "    </tr>\n",
       "    <tr>\n",
       "      <th>mean</th>\n",
       "      <td>45.927</td>\n",
       "      <td>5630.826</td>\n",
       "      <td>295.121</td>\n",
       "      <td>0.948</td>\n",
       "      <td>2.388</td>\n",
       "      <td>1.828</td>\n",
       "      <td>2.091</td>\n",
       "      <td>1.000</td>\n",
       "    </tr>\n",
       "    <tr>\n",
       "      <th>std</th>\n",
       "      <td>12.916</td>\n",
       "      <td>6171.720</td>\n",
       "      <td>1238.360</td>\n",
       "      <td>1.219</td>\n",
       "      <td>11.735</td>\n",
       "      <td>11.753</td>\n",
       "      <td>11.763</td>\n",
       "      <td>0.000</td>\n",
       "    </tr>\n",
       "    <tr>\n",
       "      <th>min</th>\n",
       "      <td>21.000</td>\n",
       "      <td>0.000</td>\n",
       "      <td>0.000</td>\n",
       "      <td>0.000</td>\n",
       "      <td>0.000</td>\n",
       "      <td>0.000</td>\n",
       "      <td>0.000</td>\n",
       "      <td>1.000</td>\n",
       "    </tr>\n",
       "    <tr>\n",
       "      <th>25%</th>\n",
       "      <td>36.000</td>\n",
       "      <td>2963.000</td>\n",
       "      <td>0.194</td>\n",
       "      <td>0.000</td>\n",
       "      <td>0.000</td>\n",
       "      <td>0.000</td>\n",
       "      <td>0.000</td>\n",
       "      <td>1.000</td>\n",
       "    </tr>\n",
       "    <tr>\n",
       "      <th>50%</th>\n",
       "      <td>45.000</td>\n",
       "      <td>4500.000</td>\n",
       "      <td>0.428</td>\n",
       "      <td>0.000</td>\n",
       "      <td>0.000</td>\n",
       "      <td>0.000</td>\n",
       "      <td>0.000</td>\n",
       "      <td>1.000</td>\n",
       "    </tr>\n",
       "    <tr>\n",
       "      <th>75%</th>\n",
       "      <td>54.000</td>\n",
       "      <td>6800.000</td>\n",
       "      <td>0.892</td>\n",
       "      <td>2.000</td>\n",
       "      <td>2.000</td>\n",
       "      <td>1.000</td>\n",
       "      <td>1.000</td>\n",
       "      <td>1.000</td>\n",
       "    </tr>\n",
       "    <tr>\n",
       "      <th>max</th>\n",
       "      <td>101.000</td>\n",
       "      <td>250000.000</td>\n",
       "      <td>38793.000</td>\n",
       "      <td>8.000</td>\n",
       "      <td>98.000</td>\n",
       "      <td>98.000</td>\n",
       "      <td>98.000</td>\n",
       "      <td>1.000</td>\n",
       "    </tr>\n",
       "  </tbody>\n",
       "</table>\n",
       "</div>"
      ],
      "text/plain": [
       "            Age  Monthly Revenue  Debt Ratio  Rated Exposure  \\\n",
       "count 10026.000         8357.000   10026.000        9847.000   \n",
       "mean     45.927         5630.826     295.121           0.948   \n",
       "std      12.916         6171.720    1238.360           1.219   \n",
       "min      21.000            0.000       0.000           0.000   \n",
       "25%      36.000         2963.000       0.194           0.000   \n",
       "50%      45.000         4500.000       0.428           0.000   \n",
       "75%      54.000         6800.000       0.892           2.000   \n",
       "max     101.000       250000.000   38793.000           8.000   \n",
       "\n",
       "       # Overdue 30-59 Days  # Overdue 60-89 Days  # Overdue 90+ Days  \\\n",
       "count             10026.000             10026.000           10026.000   \n",
       "mean                  2.388                 1.828               2.091   \n",
       "std                  11.735                11.753              11.763   \n",
       "min                   0.000                 0.000               0.000   \n",
       "25%                   0.000                 0.000               0.000   \n",
       "50%                   0.000                 0.000               0.000   \n",
       "75%                   2.000                 1.000               1.000   \n",
       "max                  98.000                98.000              98.000   \n",
       "\n",
       "       Serious Delinquencies in past 2 years  \n",
       "count                              10026.000  \n",
       "mean                                   1.000  \n",
       "std                                    0.000  \n",
       "min                                    1.000  \n",
       "25%                                    1.000  \n",
       "50%                                    1.000  \n",
       "75%                                    1.000  \n",
       "max                                    1.000  "
      ]
     },
     "execution_count": 30,
     "metadata": {},
     "output_type": "execute_result"
    }
   ],
   "source": [
    "one_delinq.describe()"
   ]
  },
  {
   "cell_type": "code",
   "execution_count": 31,
   "metadata": {},
   "outputs": [
    {
     "data": {
      "text/html": [
       "<div>\n",
       "<style scoped>\n",
       "    .dataframe tbody tr th:only-of-type {\n",
       "        vertical-align: middle;\n",
       "    }\n",
       "\n",
       "    .dataframe tbody tr th {\n",
       "        vertical-align: top;\n",
       "    }\n",
       "\n",
       "    .dataframe thead th {\n",
       "        text-align: right;\n",
       "    }\n",
       "</style>\n",
       "<table border=\"1\" class=\"dataframe\">\n",
       "  <thead>\n",
       "    <tr style=\"text-align: right;\">\n",
       "      <th></th>\n",
       "      <th>Age</th>\n",
       "      <th>Monthly Revenue</th>\n",
       "      <th>Debt Ratio</th>\n",
       "      <th>Rated Exposure</th>\n",
       "      <th># Overdue 30-59 Days</th>\n",
       "      <th># Overdue 60-89 Days</th>\n",
       "      <th># Overdue 90+ Days</th>\n",
       "      <th>Serious Delinquencies in past 2 years</th>\n",
       "    </tr>\n",
       "  </thead>\n",
       "  <tbody>\n",
       "    <tr>\n",
       "      <th>count</th>\n",
       "      <td>35037.000</td>\n",
       "      <td>28063.000</td>\n",
       "      <td>35037.000</td>\n",
       "      <td>34099.000</td>\n",
       "      <td>35037.000</td>\n",
       "      <td>35037.000</td>\n",
       "      <td>35037.000</td>\n",
       "      <td>35037.000</td>\n",
       "    </tr>\n",
       "    <tr>\n",
       "      <th>mean</th>\n",
       "      <td>52.723</td>\n",
       "      <td>6696.883</td>\n",
       "      <td>368.357</td>\n",
       "      <td>0.744</td>\n",
       "      <td>0.282</td>\n",
       "      <td>0.128</td>\n",
       "      <td>0.136</td>\n",
       "      <td>0.000</td>\n",
       "    </tr>\n",
       "    <tr>\n",
       "      <th>std</th>\n",
       "      <td>14.768</td>\n",
       "      <td>13988.810</td>\n",
       "      <td>2718.684</td>\n",
       "      <td>1.100</td>\n",
       "      <td>2.968</td>\n",
       "      <td>2.921</td>\n",
       "      <td>2.928</td>\n",
       "      <td>0.000</td>\n",
       "    </tr>\n",
       "    <tr>\n",
       "      <th>min</th>\n",
       "      <td>21.000</td>\n",
       "      <td>0.000</td>\n",
       "      <td>0.000</td>\n",
       "      <td>0.000</td>\n",
       "      <td>0.000</td>\n",
       "      <td>0.000</td>\n",
       "      <td>0.000</td>\n",
       "      <td>0.000</td>\n",
       "    </tr>\n",
       "    <tr>\n",
       "      <th>25%</th>\n",
       "      <td>42.000</td>\n",
       "      <td>3401.000</td>\n",
       "      <td>0.171</td>\n",
       "      <td>0.000</td>\n",
       "      <td>0.000</td>\n",
       "      <td>0.000</td>\n",
       "      <td>0.000</td>\n",
       "      <td>0.000</td>\n",
       "    </tr>\n",
       "    <tr>\n",
       "      <th>50%</th>\n",
       "      <td>52.000</td>\n",
       "      <td>5416.000</td>\n",
       "      <td>0.362</td>\n",
       "      <td>0.000</td>\n",
       "      <td>0.000</td>\n",
       "      <td>0.000</td>\n",
       "      <td>0.000</td>\n",
       "      <td>0.000</td>\n",
       "    </tr>\n",
       "    <tr>\n",
       "      <th>75%</th>\n",
       "      <td>63.000</td>\n",
       "      <td>8323.500</td>\n",
       "      <td>0.840</td>\n",
       "      <td>1.000</td>\n",
       "      <td>0.000</td>\n",
       "      <td>0.000</td>\n",
       "      <td>0.000</td>\n",
       "      <td>0.000</td>\n",
       "    </tr>\n",
       "    <tr>\n",
       "      <th>max</th>\n",
       "      <td>107.000</td>\n",
       "      <td>1794060.000</td>\n",
       "      <td>326442.000</td>\n",
       "      <td>10.000</td>\n",
       "      <td>98.000</td>\n",
       "      <td>98.000</td>\n",
       "      <td>98.000</td>\n",
       "      <td>0.000</td>\n",
       "    </tr>\n",
       "  </tbody>\n",
       "</table>\n",
       "</div>"
      ],
      "text/plain": [
       "            Age  Monthly Revenue  Debt Ratio  Rated Exposure  \\\n",
       "count 35037.000        28063.000   35037.000       34099.000   \n",
       "mean     52.723         6696.883     368.357           0.744   \n",
       "std      14.768        13988.810    2718.684           1.100   \n",
       "min      21.000            0.000       0.000           0.000   \n",
       "25%      42.000         3401.000       0.171           0.000   \n",
       "50%      52.000         5416.000       0.362           0.000   \n",
       "75%      63.000         8323.500       0.840           1.000   \n",
       "max     107.000      1794060.000  326442.000          10.000   \n",
       "\n",
       "       # Overdue 30-59 Days  # Overdue 60-89 Days  # Overdue 90+ Days  \\\n",
       "count             35037.000             35037.000           35037.000   \n",
       "mean                  0.282                 0.128               0.136   \n",
       "std                   2.968                 2.921               2.928   \n",
       "min                   0.000                 0.000               0.000   \n",
       "25%                   0.000                 0.000               0.000   \n",
       "50%                   0.000                 0.000               0.000   \n",
       "75%                   0.000                 0.000               0.000   \n",
       "max                  98.000                98.000              98.000   \n",
       "\n",
       "       Serious Delinquencies in past 2 years  \n",
       "count                              35037.000  \n",
       "mean                                   0.000  \n",
       "std                                    0.000  \n",
       "min                                    0.000  \n",
       "25%                                    0.000  \n",
       "50%                                    0.000  \n",
       "75%                                    0.000  \n",
       "max                                    0.000  "
      ]
     },
     "execution_count": 31,
     "metadata": {},
     "output_type": "execute_result"
    }
   ],
   "source": [
    "zero_delinq.describe()"
   ]
  },
  {
   "cell_type": "markdown",
   "metadata": {},
   "source": [
    "# Cleaning up the Data\n",
    "\n",
    "For the purpose of our analysis, I think it reasonable to sanitize the data by eliminating some of the outlying points. Namely:\n",
    "\n",
    "- Clients with revenue in excess of $100,000\n",
    "- Clients with debt ratios in excess of 10,000\n",
    "- Clients with either 96 or 98 overdue payments in each of the given time frames\n",
    "\n",
    "After imposing these restrictions, we are left with 44,885 data points out of the original 45,063."
   ]
  },
  {
   "cell_type": "code",
   "execution_count": 32,
   "metadata": {},
   "outputs": [
    {
     "data": {
      "text/plain": [
       "(44885, 8)"
      ]
     },
     "execution_count": 32,
     "metadata": {},
     "output_type": "execute_result"
    }
   ],
   "source": [
    "mr = df.columns[1]\n",
    "dr = df.columns[2]\n",
    "od1 = df.columns[4]\n",
    "od2 = df.columns[5]\n",
    "od3 = df.columns[6]\n",
    "clean = df[(df[mr]<=100000) | (df[mr].isna())]\n",
    "clean = df[df[dr] <= 10000]\n",
    "clean = df[(df[od1] < 96) & (df[od2] < 96) & (df[od3] < 96)]\n",
    "clean.shape"
   ]
  },
  {
   "cell_type": "markdown",
   "metadata": {},
   "source": [
    "\n",
    "# Dealing with Missing Data\n",
    "\n",
    "## Monthly Revenue\n",
    "\n",
    "With the data sanitized as above, we are left with no revenue figures for 8,643 clients. We need to first decide whether a) these clients should simply be excluded from the model or b) these clients should be assigned an estimated revenue for incorporation in the model.\n",
    "\n",
    "If these clients were excluded from the model, we would still retain 80.8% of our data points, which we may ultimately deem an acceptable loss rate.\n",
    "\n",
    "If we break the data set into two parts, and analyze the clients reporting revenue separately from those missing revenue, as demonstrated below, we see that the clients missing revenue have significantly higher mean and median debt ratios, lower average credit ratings, and higher average numbers of overdue payments. Given this divergence, and given that we don't much transparency into the precise relationships between the revenue figures and the balance sheets and credit ratios, I am reluctant to infer a \"reasonable\" estimate for the missing revenues. My instinct would be to exclude those clients from the model."
   ]
  },
  {
   "cell_type": "code",
   "execution_count": 33,
   "metadata": {},
   "outputs": [
    {
     "data": {
      "text/html": [
       "<div>\n",
       "<style scoped>\n",
       "    .dataframe tbody tr th:only-of-type {\n",
       "        vertical-align: middle;\n",
       "    }\n",
       "\n",
       "    .dataframe tbody tr th {\n",
       "        vertical-align: top;\n",
       "    }\n",
       "\n",
       "    .dataframe thead th {\n",
       "        text-align: right;\n",
       "    }\n",
       "</style>\n",
       "<table border=\"1\" class=\"dataframe\">\n",
       "  <thead>\n",
       "    <tr style=\"text-align: right;\">\n",
       "      <th></th>\n",
       "      <th>Age</th>\n",
       "      <th>Monthly Revenue</th>\n",
       "      <th>Debt Ratio</th>\n",
       "      <th>Rated Exposure</th>\n",
       "      <th># Overdue 30-59 Days</th>\n",
       "      <th># Overdue 60-89 Days</th>\n",
       "      <th># Overdue 90+ Days</th>\n",
       "      <th>Serious Delinquencies in past 2 years</th>\n",
       "    </tr>\n",
       "  </thead>\n",
       "  <tbody>\n",
       "    <tr>\n",
       "      <th>count</th>\n",
       "      <td>8563.000</td>\n",
       "      <td>0.000</td>\n",
       "      <td>8563.000</td>\n",
       "      <td>7465.000</td>\n",
       "      <td>8563.000</td>\n",
       "      <td>8563.000</td>\n",
       "      <td>8563.000</td>\n",
       "      <td>8563.000</td>\n",
       "    </tr>\n",
       "    <tr>\n",
       "      <th>mean</th>\n",
       "      <td>55.252</td>\n",
       "      <td>nan</td>\n",
       "      <td>1730.838</td>\n",
       "      <td>0.338</td>\n",
       "      <td>0.274</td>\n",
       "      <td>0.107</td>\n",
       "      <td>0.180</td>\n",
       "      <td>0.188</td>\n",
       "    </tr>\n",
       "    <tr>\n",
       "      <th>std</th>\n",
       "      <td>15.481</td>\n",
       "      <td>nan</td>\n",
       "      <td>5371.221</td>\n",
       "      <td>0.839</td>\n",
       "      <td>0.766</td>\n",
       "      <td>0.431</td>\n",
       "      <td>0.700</td>\n",
       "      <td>0.390</td>\n",
       "    </tr>\n",
       "    <tr>\n",
       "      <th>min</th>\n",
       "      <td>21.000</td>\n",
       "      <td>nan</td>\n",
       "      <td>0.000</td>\n",
       "      <td>0.000</td>\n",
       "      <td>0.000</td>\n",
       "      <td>0.000</td>\n",
       "      <td>0.000</td>\n",
       "      <td>0.000</td>\n",
       "    </tr>\n",
       "    <tr>\n",
       "      <th>25%</th>\n",
       "      <td>44.000</td>\n",
       "      <td>nan</td>\n",
       "      <td>161.500</td>\n",
       "      <td>0.000</td>\n",
       "      <td>0.000</td>\n",
       "      <td>0.000</td>\n",
       "      <td>0.000</td>\n",
       "      <td>0.000</td>\n",
       "    </tr>\n",
       "    <tr>\n",
       "      <th>50%</th>\n",
       "      <td>56.000</td>\n",
       "      <td>nan</td>\n",
       "      <td>1167.000</td>\n",
       "      <td>0.000</td>\n",
       "      <td>0.000</td>\n",
       "      <td>0.000</td>\n",
       "      <td>0.000</td>\n",
       "      <td>0.000</td>\n",
       "    </tr>\n",
       "    <tr>\n",
       "      <th>75%</th>\n",
       "      <td>66.000</td>\n",
       "      <td>nan</td>\n",
       "      <td>2409.500</td>\n",
       "      <td>0.000</td>\n",
       "      <td>0.000</td>\n",
       "      <td>0.000</td>\n",
       "      <td>0.000</td>\n",
       "      <td>0.000</td>\n",
       "    </tr>\n",
       "    <tr>\n",
       "      <th>max</th>\n",
       "      <td>107.000</td>\n",
       "      <td>nan</td>\n",
       "      <td>326442.000</td>\n",
       "      <td>7.000</td>\n",
       "      <td>10.000</td>\n",
       "      <td>7.000</td>\n",
       "      <td>9.000</td>\n",
       "      <td>1.000</td>\n",
       "    </tr>\n",
       "  </tbody>\n",
       "</table>\n",
       "</div>"
      ],
      "text/plain": [
       "           Age  Monthly Revenue  Debt Ratio  Rated Exposure  \\\n",
       "count 8563.000            0.000    8563.000        7465.000   \n",
       "mean    55.252              nan    1730.838           0.338   \n",
       "std     15.481              nan    5371.221           0.839   \n",
       "min     21.000              nan       0.000           0.000   \n",
       "25%     44.000              nan     161.500           0.000   \n",
       "50%     56.000              nan    1167.000           0.000   \n",
       "75%     66.000              nan    2409.500           0.000   \n",
       "max    107.000              nan  326442.000           7.000   \n",
       "\n",
       "       # Overdue 30-59 Days  # Overdue 60-89 Days  # Overdue 90+ Days  \\\n",
       "count              8563.000              8563.000            8563.000   \n",
       "mean                  0.274                 0.107               0.180   \n",
       "std                   0.766                 0.431               0.700   \n",
       "min                   0.000                 0.000               0.000   \n",
       "25%                   0.000                 0.000               0.000   \n",
       "50%                   0.000                 0.000               0.000   \n",
       "75%                   0.000                 0.000               0.000   \n",
       "max                  10.000                 7.000               9.000   \n",
       "\n",
       "       Serious Delinquencies in past 2 years  \n",
       "count                               8563.000  \n",
       "mean                                   0.188  \n",
       "std                                    0.390  \n",
       "min                                    0.000  \n",
       "25%                                    0.000  \n",
       "50%                                    0.000  \n",
       "75%                                    0.000  \n",
       "max                                    1.000  "
      ]
     },
     "execution_count": 33,
     "metadata": {},
     "output_type": "execute_result"
    }
   ],
   "source": [
    "mr = df.columns[1]\n",
    "missing_rev = clean[clean[mr].isna()]\n",
    "missing_rev.describe()"
   ]
  },
  {
   "cell_type": "code",
   "execution_count": 34,
   "metadata": {},
   "outputs": [
    {
     "data": {
      "text/html": [
       "<div>\n",
       "<style scoped>\n",
       "    .dataframe tbody tr th:only-of-type {\n",
       "        vertical-align: middle;\n",
       "    }\n",
       "\n",
       "    .dataframe tbody tr th {\n",
       "        vertical-align: top;\n",
       "    }\n",
       "\n",
       "    .dataframe thead th {\n",
       "        text-align: right;\n",
       "    }\n",
       "</style>\n",
       "<table border=\"1\" class=\"dataframe\">\n",
       "  <thead>\n",
       "    <tr style=\"text-align: right;\">\n",
       "      <th></th>\n",
       "      <th>Age</th>\n",
       "      <th>Monthly Revenue</th>\n",
       "      <th>Debt Ratio</th>\n",
       "      <th>Rated Exposure</th>\n",
       "      <th># Overdue 30-59 Days</th>\n",
       "      <th># Overdue 60-89 Days</th>\n",
       "      <th># Overdue 90+ Days</th>\n",
       "      <th>Serious Delinquencies in past 2 years</th>\n",
       "    </tr>\n",
       "  </thead>\n",
       "  <tbody>\n",
       "    <tr>\n",
       "      <th>Age</th>\n",
       "      <td>1.000</td>\n",
       "      <td>nan</td>\n",
       "      <td>-0.017</td>\n",
       "      <td>-0.134</td>\n",
       "      <td>-0.110</td>\n",
       "      <td>-0.130</td>\n",
       "      <td>-0.147</td>\n",
       "      <td>-0.269</td>\n",
       "    </tr>\n",
       "    <tr>\n",
       "      <th>Monthly Revenue</th>\n",
       "      <td>nan</td>\n",
       "      <td>nan</td>\n",
       "      <td>nan</td>\n",
       "      <td>nan</td>\n",
       "      <td>nan</td>\n",
       "      <td>nan</td>\n",
       "      <td>nan</td>\n",
       "      <td>nan</td>\n",
       "    </tr>\n",
       "    <tr>\n",
       "      <th>Debt Ratio</th>\n",
       "      <td>-0.017</td>\n",
       "      <td>nan</td>\n",
       "      <td>1.000</td>\n",
       "      <td>0.055</td>\n",
       "      <td>0.054</td>\n",
       "      <td>-0.001</td>\n",
       "      <td>-0.022</td>\n",
       "      <td>-0.000</td>\n",
       "    </tr>\n",
       "    <tr>\n",
       "      <th>Rated Exposure</th>\n",
       "      <td>-0.134</td>\n",
       "      <td>nan</td>\n",
       "      <td>0.055</td>\n",
       "      <td>1.000</td>\n",
       "      <td>0.047</td>\n",
       "      <td>0.033</td>\n",
       "      <td>0.015</td>\n",
       "      <td>0.037</td>\n",
       "    </tr>\n",
       "    <tr>\n",
       "      <th># Overdue 30-59 Days</th>\n",
       "      <td>-0.110</td>\n",
       "      <td>nan</td>\n",
       "      <td>0.054</td>\n",
       "      <td>0.047</td>\n",
       "      <td>1.000</td>\n",
       "      <td>0.358</td>\n",
       "      <td>0.244</td>\n",
       "      <td>0.377</td>\n",
       "    </tr>\n",
       "    <tr>\n",
       "      <th># Overdue 60-89 Days</th>\n",
       "      <td>-0.130</td>\n",
       "      <td>nan</td>\n",
       "      <td>-0.001</td>\n",
       "      <td>0.033</td>\n",
       "      <td>0.358</td>\n",
       "      <td>1.000</td>\n",
       "      <td>0.350</td>\n",
       "      <td>0.361</td>\n",
       "    </tr>\n",
       "    <tr>\n",
       "      <th># Overdue 90+ Days</th>\n",
       "      <td>-0.147</td>\n",
       "      <td>nan</td>\n",
       "      <td>-0.022</td>\n",
       "      <td>0.015</td>\n",
       "      <td>0.244</td>\n",
       "      <td>0.350</td>\n",
       "      <td>1.000</td>\n",
       "      <td>0.409</td>\n",
       "    </tr>\n",
       "    <tr>\n",
       "      <th>Serious Delinquencies in past 2 years</th>\n",
       "      <td>-0.269</td>\n",
       "      <td>nan</td>\n",
       "      <td>-0.000</td>\n",
       "      <td>0.037</td>\n",
       "      <td>0.377</td>\n",
       "      <td>0.361</td>\n",
       "      <td>0.409</td>\n",
       "      <td>1.000</td>\n",
       "    </tr>\n",
       "  </tbody>\n",
       "</table>\n",
       "</div>"
      ],
      "text/plain": [
       "                                         Age  Monthly Revenue  Debt Ratio  \\\n",
       "Age                                    1.000              nan      -0.017   \n",
       "Monthly Revenue                          nan              nan         nan   \n",
       "Debt Ratio                            -0.017              nan       1.000   \n",
       "Rated Exposure                        -0.134              nan       0.055   \n",
       "# Overdue 30-59 Days                  -0.110              nan       0.054   \n",
       "# Overdue 60-89 Days                  -0.130              nan      -0.001   \n",
       "# Overdue 90+ Days                    -0.147              nan      -0.022   \n",
       "Serious Delinquencies in past 2 years -0.269              nan      -0.000   \n",
       "\n",
       "                                       Rated Exposure  # Overdue 30-59 Days  \\\n",
       "Age                                            -0.134                -0.110   \n",
       "Monthly Revenue                                   nan                   nan   \n",
       "Debt Ratio                                      0.055                 0.054   \n",
       "Rated Exposure                                  1.000                 0.047   \n",
       "# Overdue 30-59 Days                            0.047                 1.000   \n",
       "# Overdue 60-89 Days                            0.033                 0.358   \n",
       "# Overdue 90+ Days                              0.015                 0.244   \n",
       "Serious Delinquencies in past 2 years           0.037                 0.377   \n",
       "\n",
       "                                       # Overdue 60-89 Days  \\\n",
       "Age                                                  -0.130   \n",
       "Monthly Revenue                                         nan   \n",
       "Debt Ratio                                           -0.001   \n",
       "Rated Exposure                                        0.033   \n",
       "# Overdue 30-59 Days                                  0.358   \n",
       "# Overdue 60-89 Days                                  1.000   \n",
       "# Overdue 90+ Days                                    0.350   \n",
       "Serious Delinquencies in past 2 years                 0.361   \n",
       "\n",
       "                                       # Overdue 90+ Days  \\\n",
       "Age                                                -0.147   \n",
       "Monthly Revenue                                       nan   \n",
       "Debt Ratio                                         -0.022   \n",
       "Rated Exposure                                      0.015   \n",
       "# Overdue 30-59 Days                                0.244   \n",
       "# Overdue 60-89 Days                                0.350   \n",
       "# Overdue 90+ Days                                  1.000   \n",
       "Serious Delinquencies in past 2 years               0.409   \n",
       "\n",
       "                                       Serious Delinquencies in past 2 years  \n",
       "Age                                                                   -0.269  \n",
       "Monthly Revenue                                                          nan  \n",
       "Debt Ratio                                                            -0.000  \n",
       "Rated Exposure                                                         0.037  \n",
       "# Overdue 30-59 Days                                                   0.377  \n",
       "# Overdue 60-89 Days                                                   0.361  \n",
       "# Overdue 90+ Days                                                     0.409  \n",
       "Serious Delinquencies in past 2 years                                  1.000  "
      ]
     },
     "execution_count": 34,
     "metadata": {},
     "output_type": "execute_result"
    }
   ],
   "source": [
    "missing_rev.corr()"
   ]
  },
  {
   "cell_type": "code",
   "execution_count": 35,
   "metadata": {},
   "outputs": [
    {
     "data": {
      "text/html": [
       "<div>\n",
       "<style scoped>\n",
       "    .dataframe tbody tr th:only-of-type {\n",
       "        vertical-align: middle;\n",
       "    }\n",
       "\n",
       "    .dataframe tbody tr th {\n",
       "        vertical-align: top;\n",
       "    }\n",
       "\n",
       "    .dataframe thead th {\n",
       "        text-align: right;\n",
       "    }\n",
       "</style>\n",
       "<table border=\"1\" class=\"dataframe\">\n",
       "  <thead>\n",
       "    <tr style=\"text-align: right;\">\n",
       "      <th></th>\n",
       "      <th>Age</th>\n",
       "      <th>Monthly Revenue</th>\n",
       "      <th>Debt Ratio</th>\n",
       "      <th>Rated Exposure</th>\n",
       "      <th># Overdue 30-59 Days</th>\n",
       "      <th># Overdue 60-89 Days</th>\n",
       "      <th># Overdue 90+ Days</th>\n",
       "      <th>Serious Delinquencies in past 2 years</th>\n",
       "    </tr>\n",
       "  </thead>\n",
       "  <tbody>\n",
       "    <tr>\n",
       "      <th>count</th>\n",
       "      <td>36322.000</td>\n",
       "      <td>36322.000</td>\n",
       "      <td>36322.000</td>\n",
       "      <td>36322.000</td>\n",
       "      <td>36322.000</td>\n",
       "      <td>36322.000</td>\n",
       "      <td>36322.000</td>\n",
       "      <td>36322.000</td>\n",
       "    </tr>\n",
       "    <tr>\n",
       "      <th>mean</th>\n",
       "      <td>50.333</td>\n",
       "      <td>6463.170</td>\n",
       "      <td>28.702</td>\n",
       "      <td>0.884</td>\n",
       "      <td>0.387</td>\n",
       "      <td>0.122</td>\n",
       "      <td>0.186</td>\n",
       "      <td>0.228</td>\n",
       "    </tr>\n",
       "    <tr>\n",
       "      <th>std</th>\n",
       "      <td>14.254</td>\n",
       "      <td>12653.233</td>\n",
       "      <td>447.194</td>\n",
       "      <td>1.161</td>\n",
       "      <td>0.913</td>\n",
       "      <td>0.472</td>\n",
       "      <td>0.715</td>\n",
       "      <td>0.419</td>\n",
       "    </tr>\n",
       "    <tr>\n",
       "      <th>min</th>\n",
       "      <td>21.000</td>\n",
       "      <td>0.000</td>\n",
       "      <td>0.000</td>\n",
       "      <td>0.000</td>\n",
       "      <td>0.000</td>\n",
       "      <td>0.000</td>\n",
       "      <td>0.000</td>\n",
       "      <td>0.000</td>\n",
       "    </tr>\n",
       "    <tr>\n",
       "      <th>25%</th>\n",
       "      <td>40.000</td>\n",
       "      <td>3300.000</td>\n",
       "      <td>0.147</td>\n",
       "      <td>0.000</td>\n",
       "      <td>0.000</td>\n",
       "      <td>0.000</td>\n",
       "      <td>0.000</td>\n",
       "      <td>0.000</td>\n",
       "    </tr>\n",
       "    <tr>\n",
       "      <th>50%</th>\n",
       "      <td>50.000</td>\n",
       "      <td>5167.000</td>\n",
       "      <td>0.305</td>\n",
       "      <td>0.000</td>\n",
       "      <td>0.000</td>\n",
       "      <td>0.000</td>\n",
       "      <td>0.000</td>\n",
       "      <td>0.000</td>\n",
       "    </tr>\n",
       "    <tr>\n",
       "      <th>75%</th>\n",
       "      <td>60.000</td>\n",
       "      <td>8000.000</td>\n",
       "      <td>0.502</td>\n",
       "      <td>2.000</td>\n",
       "      <td>0.000</td>\n",
       "      <td>0.000</td>\n",
       "      <td>0.000</td>\n",
       "      <td>0.000</td>\n",
       "    </tr>\n",
       "    <tr>\n",
       "      <th>max</th>\n",
       "      <td>103.000</td>\n",
       "      <td>1794060.000</td>\n",
       "      <td>49112.000</td>\n",
       "      <td>10.000</td>\n",
       "      <td>13.000</td>\n",
       "      <td>11.000</td>\n",
       "      <td>17.000</td>\n",
       "      <td>1.000</td>\n",
       "    </tr>\n",
       "  </tbody>\n",
       "</table>\n",
       "</div>"
      ],
      "text/plain": [
       "            Age  Monthly Revenue  Debt Ratio  Rated Exposure  \\\n",
       "count 36322.000        36322.000   36322.000       36322.000   \n",
       "mean     50.333         6463.170      28.702           0.884   \n",
       "std      14.254        12653.233     447.194           1.161   \n",
       "min      21.000            0.000       0.000           0.000   \n",
       "25%      40.000         3300.000       0.147           0.000   \n",
       "50%      50.000         5167.000       0.305           0.000   \n",
       "75%      60.000         8000.000       0.502           2.000   \n",
       "max     103.000      1794060.000   49112.000          10.000   \n",
       "\n",
       "       # Overdue 30-59 Days  # Overdue 60-89 Days  # Overdue 90+ Days  \\\n",
       "count             36322.000             36322.000           36322.000   \n",
       "mean                  0.387                 0.122               0.186   \n",
       "std                   0.913                 0.472               0.715   \n",
       "min                   0.000                 0.000               0.000   \n",
       "25%                   0.000                 0.000               0.000   \n",
       "50%                   0.000                 0.000               0.000   \n",
       "75%                   0.000                 0.000               0.000   \n",
       "max                  13.000                11.000              17.000   \n",
       "\n",
       "       Serious Delinquencies in past 2 years  \n",
       "count                              36322.000  \n",
       "mean                                   0.228  \n",
       "std                                    0.419  \n",
       "min                                    0.000  \n",
       "25%                                    0.000  \n",
       "50%                                    0.000  \n",
       "75%                                    0.000  \n",
       "max                                    1.000  "
      ]
     },
     "execution_count": 35,
     "metadata": {},
     "output_type": "execute_result"
    }
   ],
   "source": [
    "has_rev = clean[clean[mr]>=0]\n",
    "has_rev.describe()"
   ]
  },
  {
   "cell_type": "code",
   "execution_count": 36,
   "metadata": {},
   "outputs": [
    {
     "data": {
      "text/html": [
       "<div>\n",
       "<style scoped>\n",
       "    .dataframe tbody tr th:only-of-type {\n",
       "        vertical-align: middle;\n",
       "    }\n",
       "\n",
       "    .dataframe tbody tr th {\n",
       "        vertical-align: top;\n",
       "    }\n",
       "\n",
       "    .dataframe thead th {\n",
       "        text-align: right;\n",
       "    }\n",
       "</style>\n",
       "<table border=\"1\" class=\"dataframe\">\n",
       "  <thead>\n",
       "    <tr style=\"text-align: right;\">\n",
       "      <th></th>\n",
       "      <th>Age</th>\n",
       "      <th>Monthly Revenue</th>\n",
       "      <th>Debt Ratio</th>\n",
       "      <th>Rated Exposure</th>\n",
       "      <th># Overdue 30-59 Days</th>\n",
       "      <th># Overdue 60-89 Days</th>\n",
       "      <th># Overdue 90+ Days</th>\n",
       "      <th>Serious Delinquencies in past 2 years</th>\n",
       "    </tr>\n",
       "  </thead>\n",
       "  <tbody>\n",
       "    <tr>\n",
       "      <th>Age</th>\n",
       "      <td>1.000</td>\n",
       "      <td>0.051</td>\n",
       "      <td>0.001</td>\n",
       "      <td>-0.200</td>\n",
       "      <td>-0.067</td>\n",
       "      <td>-0.075</td>\n",
       "      <td>-0.095</td>\n",
       "      <td>-0.167</td>\n",
       "    </tr>\n",
       "    <tr>\n",
       "      <th>Monthly Revenue</th>\n",
       "      <td>0.051</td>\n",
       "      <td>1.000</td>\n",
       "      <td>-0.032</td>\n",
       "      <td>0.056</td>\n",
       "      <td>-0.007</td>\n",
       "      <td>-0.018</td>\n",
       "      <td>-0.029</td>\n",
       "      <td>-0.034</td>\n",
       "    </tr>\n",
       "    <tr>\n",
       "      <th>Debt Ratio</th>\n",
       "      <td>0.001</td>\n",
       "      <td>-0.032</td>\n",
       "      <td>1.000</td>\n",
       "      <td>0.011</td>\n",
       "      <td>0.004</td>\n",
       "      <td>-0.003</td>\n",
       "      <td>-0.003</td>\n",
       "      <td>-0.008</td>\n",
       "    </tr>\n",
       "    <tr>\n",
       "      <th>Rated Exposure</th>\n",
       "      <td>-0.200</td>\n",
       "      <td>0.056</td>\n",
       "      <td>0.011</td>\n",
       "      <td>1.000</td>\n",
       "      <td>0.066</td>\n",
       "      <td>0.051</td>\n",
       "      <td>0.047</td>\n",
       "      <td>0.078</td>\n",
       "    </tr>\n",
       "    <tr>\n",
       "      <th># Overdue 30-59 Days</th>\n",
       "      <td>-0.067</td>\n",
       "      <td>-0.007</td>\n",
       "      <td>0.004</td>\n",
       "      <td>0.066</td>\n",
       "      <td>1.000</td>\n",
       "      <td>0.327</td>\n",
       "      <td>0.243</td>\n",
       "      <td>0.355</td>\n",
       "    </tr>\n",
       "    <tr>\n",
       "      <th># Overdue 60-89 Days</th>\n",
       "      <td>-0.075</td>\n",
       "      <td>-0.018</td>\n",
       "      <td>-0.003</td>\n",
       "      <td>0.051</td>\n",
       "      <td>0.327</td>\n",
       "      <td>1.000</td>\n",
       "      <td>0.325</td>\n",
       "      <td>0.310</td>\n",
       "    </tr>\n",
       "    <tr>\n",
       "      <th># Overdue 90+ Days</th>\n",
       "      <td>-0.095</td>\n",
       "      <td>-0.029</td>\n",
       "      <td>-0.003</td>\n",
       "      <td>0.047</td>\n",
       "      <td>0.243</td>\n",
       "      <td>0.325</td>\n",
       "      <td>1.000</td>\n",
       "      <td>0.348</td>\n",
       "    </tr>\n",
       "    <tr>\n",
       "      <th>Serious Delinquencies in past 2 years</th>\n",
       "      <td>-0.167</td>\n",
       "      <td>-0.034</td>\n",
       "      <td>-0.008</td>\n",
       "      <td>0.078</td>\n",
       "      <td>0.355</td>\n",
       "      <td>0.310</td>\n",
       "      <td>0.348</td>\n",
       "      <td>1.000</td>\n",
       "    </tr>\n",
       "  </tbody>\n",
       "</table>\n",
       "</div>"
      ],
      "text/plain": [
       "                                         Age  Monthly Revenue  Debt Ratio  \\\n",
       "Age                                    1.000            0.051       0.001   \n",
       "Monthly Revenue                        0.051            1.000      -0.032   \n",
       "Debt Ratio                             0.001           -0.032       1.000   \n",
       "Rated Exposure                        -0.200            0.056       0.011   \n",
       "# Overdue 30-59 Days                  -0.067           -0.007       0.004   \n",
       "# Overdue 60-89 Days                  -0.075           -0.018      -0.003   \n",
       "# Overdue 90+ Days                    -0.095           -0.029      -0.003   \n",
       "Serious Delinquencies in past 2 years -0.167           -0.034      -0.008   \n",
       "\n",
       "                                       Rated Exposure  # Overdue 30-59 Days  \\\n",
       "Age                                            -0.200                -0.067   \n",
       "Monthly Revenue                                 0.056                -0.007   \n",
       "Debt Ratio                                      0.011                 0.004   \n",
       "Rated Exposure                                  1.000                 0.066   \n",
       "# Overdue 30-59 Days                            0.066                 1.000   \n",
       "# Overdue 60-89 Days                            0.051                 0.327   \n",
       "# Overdue 90+ Days                              0.047                 0.243   \n",
       "Serious Delinquencies in past 2 years           0.078                 0.355   \n",
       "\n",
       "                                       # Overdue 60-89 Days  \\\n",
       "Age                                                  -0.075   \n",
       "Monthly Revenue                                      -0.018   \n",
       "Debt Ratio                                           -0.003   \n",
       "Rated Exposure                                        0.051   \n",
       "# Overdue 30-59 Days                                  0.327   \n",
       "# Overdue 60-89 Days                                  1.000   \n",
       "# Overdue 90+ Days                                    0.325   \n",
       "Serious Delinquencies in past 2 years                 0.310   \n",
       "\n",
       "                                       # Overdue 90+ Days  \\\n",
       "Age                                                -0.095   \n",
       "Monthly Revenue                                    -0.029   \n",
       "Debt Ratio                                         -0.003   \n",
       "Rated Exposure                                      0.047   \n",
       "# Overdue 30-59 Days                                0.243   \n",
       "# Overdue 60-89 Days                                0.325   \n",
       "# Overdue 90+ Days                                  1.000   \n",
       "Serious Delinquencies in past 2 years               0.348   \n",
       "\n",
       "                                       Serious Delinquencies in past 2 years  \n",
       "Age                                                                   -0.167  \n",
       "Monthly Revenue                                                       -0.034  \n",
       "Debt Ratio                                                            -0.008  \n",
       "Rated Exposure                                                         0.078  \n",
       "# Overdue 30-59 Days                                                   0.355  \n",
       "# Overdue 60-89 Days                                                   0.310  \n",
       "# Overdue 90+ Days                                                     0.348  \n",
       "Serious Delinquencies in past 2 years                                  1.000  "
      ]
     },
     "execution_count": 36,
     "metadata": {},
     "output_type": "execute_result"
    }
   ],
   "source": [
    "has_rev.corr()"
   ]
  },
  {
   "cell_type": "markdown",
   "metadata": {},
   "source": [
    "## Rated Exposure\n",
    "\n",
    "Having chosen to eliminate the clients for which we have no revenue figures from the analysis, we in turn have also eliminated those clients lacking credit ratings, so no further action is required."
   ]
  },
  {
   "cell_type": "code",
   "execution_count": 37,
   "metadata": {},
   "outputs": [
    {
     "data": {
      "text/plain": [
       "0.000     19246\n",
       "1.000      7516\n",
       "2.000      5628\n",
       "3.000      2766\n",
       "4.000       884\n",
       "5.000       209\n",
       "6.000        52\n",
       "7.000        13\n",
       "8.000         6\n",
       "10.000        1\n",
       "9.000         1\n",
       "Name: Rated Exposure, dtype: int64"
      ]
     },
     "execution_count": 37,
     "metadata": {},
     "output_type": "execute_result"
    }
   ],
   "source": [
    "re_col = has_rev.columns[3]\n",
    "has_rev[re_col].value_counts()"
   ]
  },
  {
   "cell_type": "markdown",
   "metadata": {},
   "source": [
    "# Conclusions\n",
    "\n",
    "A cursory look at a matrix of correlation coefficients yield few really striking relationships, the strongest being those among the various overdue payment categories and the likelihood of serious delinquency (indicating, unsurprisingly, that clients with overdue payments of some duration are likely to have overdue payments of other duration and vice versa). However, I think the following assertions are generally supported by the data:\n",
    "\n",
    "- There is positive correlation between between revenue and credit rating\n",
    "- There is negative correlation between debt ratio and both revenue and credit rating\n",
    "- There is slight positive correlation between credit rating and likelihood of overdue payment and delinquency\n",
    "- There is strong correlation between overdue payments and serious delinquency\n",
    "- There is a slight negative correlation between the age of the company and the likelihood of overdue payments and delinquency"
   ]
  },
  {
   "cell_type": "code",
   "execution_count": 38,
   "metadata": {},
   "outputs": [
    {
     "data": {
      "text/html": [
       "<div>\n",
       "<style scoped>\n",
       "    .dataframe tbody tr th:only-of-type {\n",
       "        vertical-align: middle;\n",
       "    }\n",
       "\n",
       "    .dataframe tbody tr th {\n",
       "        vertical-align: top;\n",
       "    }\n",
       "\n",
       "    .dataframe thead th {\n",
       "        text-align: right;\n",
       "    }\n",
       "</style>\n",
       "<table border=\"1\" class=\"dataframe\">\n",
       "  <thead>\n",
       "    <tr style=\"text-align: right;\">\n",
       "      <th></th>\n",
       "      <th>Age</th>\n",
       "      <th>Monthly Revenue</th>\n",
       "      <th>Debt Ratio</th>\n",
       "      <th>Rated Exposure</th>\n",
       "      <th># Overdue 30-59 Days</th>\n",
       "      <th># Overdue 60-89 Days</th>\n",
       "      <th># Overdue 90+ Days</th>\n",
       "      <th>Serious Delinquencies in past 2 years</th>\n",
       "    </tr>\n",
       "  </thead>\n",
       "  <tbody>\n",
       "    <tr>\n",
       "      <th>Age</th>\n",
       "      <td>1.000</td>\n",
       "      <td>0.051</td>\n",
       "      <td>0.001</td>\n",
       "      <td>-0.200</td>\n",
       "      <td>-0.067</td>\n",
       "      <td>-0.075</td>\n",
       "      <td>-0.095</td>\n",
       "      <td>-0.167</td>\n",
       "    </tr>\n",
       "    <tr>\n",
       "      <th>Monthly Revenue</th>\n",
       "      <td>0.051</td>\n",
       "      <td>1.000</td>\n",
       "      <td>-0.032</td>\n",
       "      <td>0.056</td>\n",
       "      <td>-0.007</td>\n",
       "      <td>-0.018</td>\n",
       "      <td>-0.029</td>\n",
       "      <td>-0.034</td>\n",
       "    </tr>\n",
       "    <tr>\n",
       "      <th>Debt Ratio</th>\n",
       "      <td>0.001</td>\n",
       "      <td>-0.032</td>\n",
       "      <td>1.000</td>\n",
       "      <td>0.011</td>\n",
       "      <td>0.004</td>\n",
       "      <td>-0.003</td>\n",
       "      <td>-0.003</td>\n",
       "      <td>-0.008</td>\n",
       "    </tr>\n",
       "    <tr>\n",
       "      <th>Rated Exposure</th>\n",
       "      <td>-0.200</td>\n",
       "      <td>0.056</td>\n",
       "      <td>0.011</td>\n",
       "      <td>1.000</td>\n",
       "      <td>0.066</td>\n",
       "      <td>0.051</td>\n",
       "      <td>0.047</td>\n",
       "      <td>0.078</td>\n",
       "    </tr>\n",
       "    <tr>\n",
       "      <th># Overdue 30-59 Days</th>\n",
       "      <td>-0.067</td>\n",
       "      <td>-0.007</td>\n",
       "      <td>0.004</td>\n",
       "      <td>0.066</td>\n",
       "      <td>1.000</td>\n",
       "      <td>0.327</td>\n",
       "      <td>0.243</td>\n",
       "      <td>0.355</td>\n",
       "    </tr>\n",
       "    <tr>\n",
       "      <th># Overdue 60-89 Days</th>\n",
       "      <td>-0.075</td>\n",
       "      <td>-0.018</td>\n",
       "      <td>-0.003</td>\n",
       "      <td>0.051</td>\n",
       "      <td>0.327</td>\n",
       "      <td>1.000</td>\n",
       "      <td>0.325</td>\n",
       "      <td>0.310</td>\n",
       "    </tr>\n",
       "    <tr>\n",
       "      <th># Overdue 90+ Days</th>\n",
       "      <td>-0.095</td>\n",
       "      <td>-0.029</td>\n",
       "      <td>-0.003</td>\n",
       "      <td>0.047</td>\n",
       "      <td>0.243</td>\n",
       "      <td>0.325</td>\n",
       "      <td>1.000</td>\n",
       "      <td>0.348</td>\n",
       "    </tr>\n",
       "    <tr>\n",
       "      <th>Serious Delinquencies in past 2 years</th>\n",
       "      <td>-0.167</td>\n",
       "      <td>-0.034</td>\n",
       "      <td>-0.008</td>\n",
       "      <td>0.078</td>\n",
       "      <td>0.355</td>\n",
       "      <td>0.310</td>\n",
       "      <td>0.348</td>\n",
       "      <td>1.000</td>\n",
       "    </tr>\n",
       "  </tbody>\n",
       "</table>\n",
       "</div>"
      ],
      "text/plain": [
       "                                         Age  Monthly Revenue  Debt Ratio  \\\n",
       "Age                                    1.000            0.051       0.001   \n",
       "Monthly Revenue                        0.051            1.000      -0.032   \n",
       "Debt Ratio                             0.001           -0.032       1.000   \n",
       "Rated Exposure                        -0.200            0.056       0.011   \n",
       "# Overdue 30-59 Days                  -0.067           -0.007       0.004   \n",
       "# Overdue 60-89 Days                  -0.075           -0.018      -0.003   \n",
       "# Overdue 90+ Days                    -0.095           -0.029      -0.003   \n",
       "Serious Delinquencies in past 2 years -0.167           -0.034      -0.008   \n",
       "\n",
       "                                       Rated Exposure  # Overdue 30-59 Days  \\\n",
       "Age                                            -0.200                -0.067   \n",
       "Monthly Revenue                                 0.056                -0.007   \n",
       "Debt Ratio                                      0.011                 0.004   \n",
       "Rated Exposure                                  1.000                 0.066   \n",
       "# Overdue 30-59 Days                            0.066                 1.000   \n",
       "# Overdue 60-89 Days                            0.051                 0.327   \n",
       "# Overdue 90+ Days                              0.047                 0.243   \n",
       "Serious Delinquencies in past 2 years           0.078                 0.355   \n",
       "\n",
       "                                       # Overdue 60-89 Days  \\\n",
       "Age                                                  -0.075   \n",
       "Monthly Revenue                                      -0.018   \n",
       "Debt Ratio                                           -0.003   \n",
       "Rated Exposure                                        0.051   \n",
       "# Overdue 30-59 Days                                  0.327   \n",
       "# Overdue 60-89 Days                                  1.000   \n",
       "# Overdue 90+ Days                                    0.325   \n",
       "Serious Delinquencies in past 2 years                 0.310   \n",
       "\n",
       "                                       # Overdue 90+ Days  \\\n",
       "Age                                                -0.095   \n",
       "Monthly Revenue                                    -0.029   \n",
       "Debt Ratio                                         -0.003   \n",
       "Rated Exposure                                      0.047   \n",
       "# Overdue 30-59 Days                                0.243   \n",
       "# Overdue 60-89 Days                                0.325   \n",
       "# Overdue 90+ Days                                  1.000   \n",
       "Serious Delinquencies in past 2 years               0.348   \n",
       "\n",
       "                                       Serious Delinquencies in past 2 years  \n",
       "Age                                                                   -0.167  \n",
       "Monthly Revenue                                                       -0.034  \n",
       "Debt Ratio                                                            -0.008  \n",
       "Rated Exposure                                                         0.078  \n",
       "# Overdue 30-59 Days                                                   0.355  \n",
       "# Overdue 60-89 Days                                                   0.310  \n",
       "# Overdue 90+ Days                                                     0.348  \n",
       "Serious Delinquencies in past 2 years                                  1.000  "
      ]
     },
     "execution_count": 38,
     "metadata": {},
     "output_type": "execute_result"
    }
   ],
   "source": [
    "has_rev.corr()"
   ]
  },
  {
   "cell_type": "code",
   "execution_count": null,
   "metadata": {},
   "outputs": [],
   "source": []
  },
  {
   "cell_type": "code",
   "execution_count": null,
   "metadata": {},
   "outputs": [],
   "source": []
  }
 ],
 "metadata": {
  "kernelspec": {
   "display_name": "Python 3",
   "language": "python",
   "name": "python3"
  },
  "language_info": {
   "codemirror_mode": {
    "name": "ipython",
    "version": 3
   },
   "file_extension": ".py",
   "mimetype": "text/x-python",
   "name": "python",
   "nbconvert_exporter": "python",
   "pygments_lexer": "ipython3",
   "version": "3.6.5"
  }
 },
 "nbformat": 4,
 "nbformat_minor": 2
}
